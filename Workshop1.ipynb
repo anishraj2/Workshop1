{
 "cells": [
  {
   "cell_type": "code",
   "execution_count": 3,
   "id": "e3b75434",
   "metadata": {},
   "outputs": [
    {
     "data": {
      "text/plain": [
       "True"
      ]
     },
     "execution_count": 3,
     "metadata": {},
     "output_type": "execute_result"
    }
   ],
   "source": [
    "import cv2\n",
    "image = cv2.imread('Anish.jpg')\n",
    "gray_image = cv2.cvtColor(image, cv2.COLOR_BGR2GRAY)\n",
    "hsv_image = cv2.cvtColor(image, cv2.COLOR_BGR2HSV)\n",
    "cv2.imwrite('GRAYSCALE.jpg', gray_image)\n",
    "cv2.imwrite('HSV.jpg', hsv_image)\n"
   ]
  },
  {
   "cell_type": "code",
   "execution_count": 4,
   "id": "f86fdf05",
   "metadata": {},
   "outputs": [
    {
     "data": {
      "text/plain": [
       "True"
      ]
     },
     "execution_count": 4,
     "metadata": {},
     "output_type": "execute_result"
    }
   ],
   "source": [
    "import cv2\n",
    "hsv_image = cv2.imread('HSV.jpg')\n",
    "h, s, v = cv2.split(hsv_image)\n",
    "cv2.imwrite('Hue_plane.jpg', h)\n",
    "cv2.imwrite('Saturation_plane.jpg', s)\n",
    "cv2.imwrite('Value_plane.jpg', v)"
   ]
  }
 ],
 "metadata": {
  "kernelspec": {
   "display_name": "Python 3 (ipykernel)",
   "language": "python",
   "name": "python3"
  },
  "language_info": {
   "codemirror_mode": {
    "name": "ipython",
    "version": 3
   },
   "file_extension": ".py",
   "mimetype": "text/x-python",
   "name": "python",
   "nbconvert_exporter": "python",
   "pygments_lexer": "ipython3",
   "version": "3.11.5"
  }
 },
 "nbformat": 4,
 "nbformat_minor": 5
}
